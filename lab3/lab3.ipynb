{
 "cells": [
  {
   "cell_type": "markdown",
   "id": "d28ed7f6",
   "metadata": {},
   "source": [
    "# Лабораторная работа №3\n",
    "\n",
    "Выполнил студент группы 9381 Никита Шахин.\n",
    "\n",
    "## Цель работы: \n",
    "Практическое применение библиотеки символьных вычислений Python (SymPy) для решения задач дискретной математики и математической логики.\n",
    "\n",
    "## Задачи лабораторной работы\n",
    "* Решить свой вариант диофантова уравнения.\n",
    "* Имея открытую часть ключа RSA найти соответствующую закрытую часть и расшифровать кодированное слово.\n",
    "* Записать в формате ДНФ и КНФ булеву функцию, заданную своим аналитическим выражением.\n",
    "\n",
    "**Вариант 17**\n",
    "\n",
    "### 1. Решение диофантова уравнения.\n",
    "\n",
    "$2023x + 4420y = 68$"
   ]
  },
  {
   "cell_type": "code",
   "execution_count": 4,
   "id": "93d45a16",
   "metadata": {},
   "outputs": [],
   "source": [
    "from sympy.solvers.diophantine import diophantine\n",
    "from sympy import symbols\n",
    "from sympy.crypto.crypto import rsa_private_key, decipher_rsa\n",
    "from sympy.logic.boolalg import to_cnf, to_dnf\n",
    "\n",
    "x,y,z = symbols('x y z')"
   ]
  },
  {
   "cell_type": "code",
   "execution_count": 5,
   "id": "6c6b1738",
   "metadata": {
    "scrolled": true
   },
   "outputs": [
    {
     "data": {
      "text/plain": [
       "{(260*t_0 + 236, -119*t_0 - 108)}"
      ]
     },
     "execution_count": 5,
     "metadata": {},
     "output_type": "execute_result"
    }
   ],
   "source": [
    "diophantine(2023*x + 4420*y - 68)"
   ]
  },
  {
   "cell_type": "markdown",
   "id": "73c4afb4",
   "metadata": {},
   "source": [
    "Ответ: $x = 236,\\; y = -108$"
   ]
  },
  {
   "cell_type": "markdown",
   "id": "52647cbd",
   "metadata": {},
   "source": [
    "### 2.  Имея открытую часть ключа RSA найти соответствующую закрытую часть и расшифровать кодированное слово.\n",
    "\n",
    "Русское слово из четырех букв закодировано при помощи алгоритма RSA открытым ключом $(e = 7,m = 34)$.\n",
    "Шифрованное сообщение имеет вид $(31; 26; 21; 14)$. Подберите закрытую часть ключа и прочитайте исходное слово.\n",
    "Буквам русского алфавита соответсвуют числа в диапазоне от 2 до 32 (исключены буквы “ё” и “ъ”)."
   ]
  },
  {
   "cell_type": "code",
   "execution_count": 6,
   "id": "72e00ea8",
   "metadata": {},
   "outputs": [
    {
     "name": "stdout",
     "output_type": "stream",
     "text": [
      "23 2 13 6 "
     ]
    }
   ],
   "source": [
    "code = [31, 26, 21, 14]\n",
    "key = rsa_private_key(34,7) \n",
    "for i in code:\n",
    "    print(decipher_rsa(i, key), end=\" \")    "
   ]
  },
  {
   "cell_type": "markdown",
   "id": "84ad1584",
   "metadata": {},
   "source": [
    "Х А Л Д"
   ]
  },
  {
   "cell_type": "markdown",
   "id": "aa1d3519",
   "metadata": {},
   "source": [
    "## 3. Записать в формате ДНФ и КНФ булеву функцию, заданную своим аналитическим выражением."
   ]
  },
  {
   "cell_type": "markdown",
   "id": "acd89a37",
   "metadata": {},
   "source": [
    "$f(x,\\; y,\\; z) = ((xy)\\; xor\\; (x\\; xor\\; z))\\; ∨\\; ((x\\; ∨\\; z)y)$"
   ]
  },
  {
   "cell_type": "code",
   "execution_count": 7,
   "id": "cc3438de",
   "metadata": {},
   "outputs": [
    {
     "name": "stdout",
     "output_type": "stream",
     "text": [
      "ДНФ:  (x & y) | (x & ~z) | (z & ~x)\n",
      "КНФ:  (x | z) & (y | ~x | ~z)\n"
     ]
    }
   ],
   "source": [
    "print(\"ДНФ: \", to_dnf(((x&y)^(x^z))|((x|z)&y), simplify=True))\n",
    "print(\"КНФ: \", to_cnf(((x&y)^(x^z))|((x|z)&y), simplify=True))"
   ]
  },
  {
   "cell_type": "markdown",
   "id": "bafcf7ac",
   "metadata": {},
   "source": [
    "## Вывод\n",
    "\n",
    "При выполнении лабораторной работы были изучены функции библиотеки SymPy Языка Программирования Python для решения задач дискретной математики и математической логики."
   ]
  }
 ],
 "metadata": {
  "kernelspec": {
   "display_name": "Python 3",
   "language": "python",
   "name": "python3"
  },
  "language_info": {
   "codemirror_mode": {
    "name": "ipython",
    "version": 3
   },
   "file_extension": ".py",
   "mimetype": "text/x-python",
   "name": "python",
   "nbconvert_exporter": "python",
   "pygments_lexer": "ipython3",
   "version": "3.8.8"
  }
 },
 "nbformat": 4,
 "nbformat_minor": 5
}
