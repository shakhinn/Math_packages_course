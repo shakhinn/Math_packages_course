{
 "cells": [
  {
   "cell_type": "markdown",
   "id": "e67556bf",
   "metadata": {},
   "source": [
    "# Тестовое задание\n",
    "выполнил студент группы 9381 Никита Шахин"
   ]
  },
  {
   "cell_type": "code",
   "execution_count": 1,
   "id": "b589f177",
   "metadata": {},
   "outputs": [],
   "source": [
    "import numpy as np\n",
    "from scipy.fft import fft\n",
    "from pydub import AudioSegment\n",
    "import more_itertools as mit\n",
    "import sklearn.cluster\n",
    "import csv\n",
    "import random\n",
    "import copy"
   ]
  },
  {
   "cell_type": "markdown",
   "id": "47158b11",
   "metadata": {},
   "source": [
    "Считываем файлы и сохраняем их в массив"
   ]
  },
  {
   "cell_type": "code",
   "execution_count": 2,
   "id": "65c3965c",
   "metadata": {},
   "outputs": [],
   "source": [
    "signals = []\n",
    "filenames = []\n",
    "filename_template = \"mp3/{}.mp3\"\n",
    "for i in range(124):\n",
    "    filename = filename_template.format(i + 1)\n",
    "    filenames.append(filename)\n",
    "    audiofile = AudioSegment.from_mp3(filename).set_channels(1)\n",
    "    signals.append(np.array(audiofile.get_array_of_samples()))\n"
   ]
  },
  {
   "cell_type": "markdown",
   "id": "0ebcb244",
   "metadata": {},
   "source": [
    "Размер одного интервала"
   ]
  },
  {
   "cell_type": "code",
   "execution_count": 3,
   "id": "3b9f58ea",
   "metadata": {},
   "outputs": [],
   "source": [
    "dimension = 256\n",
    "window_offset = 256"
   ]
  },
  {
   "cell_type": "markdown",
   "id": "a36b36b8",
   "metadata": {},
   "source": [
    "* Каждый трек делим на интервалы.\n",
    "* В кажом треке для каждого подходящего интервала(интервал, максимум в котором содержит 30% от максимиума самого мощного интервала)\n",
    "* Для каждого подходящего интервала вычисляется амплитудный спектр\n",
    "* Находим среднее значение амплитудных спектров"
   ]
  },
  {
   "cell_type": "code",
   "execution_count": 27,
   "id": "890a7b3b",
   "metadata": {},
   "outputs": [],
   "source": [
    "amplitude_spectrums = []\n",
    "for signal in signals:\n",
    "    signal_intervals = list(mit.windowed(signal, fillvalue=0, n=dimension, step=window_offset))\n",
    "    bound = 0\n",
    "    for i in signal_intervals:\n",
    "        m = np.max(i)\n",
    "        if m > bound:\n",
    "            bound = m\n",
    "    bound *= 0.15\n",
    "    signal_intervals = list(filter(lambda i: np.max(i) > bound, signal_intervals))\n",
    "    signal_intervals = list(map(lambda interval: fft(interval * np.hamming(len(interval))), signal_intervals))\n",
    "    amplitude_spectrum = [[np.abs(i) for i in interval[:dimension//2]] for interval in signal_intervals]\n",
    "    a = [0 for i in range(dimension // 2)]\n",
    "    for i in amplitude_spectrum:\n",
    "        for j in range(dimension // 2):\n",
    "            a[j] += i[j]\n",
    "    for i in range(dimension // 2):\n",
    "        a[i] /= len(signal_intervals)\n",
    "    amplitude_spectrums.append(a)"
   ]
  },
  {
   "cell_type": "markdown",
   "id": "c549f672",
   "metadata": {},
   "source": [
    "Выполняем алгоритм кластеризации\n",
    "1. Случайным образом инициализируем центроиды\n",
    "2. Разбиваем сигналы на кластеры\n",
    "3. Пересчитываем новые центры(ищем среднее значение в каждом кластере)\n",
    "Повторяем шаги 2 и 3 пока центроиды меняются"
   ]
  },
  {
   "cell_type": "code",
   "execution_count": 36,
   "id": "a05ac2ff",
   "metadata": {
    "scrolled": false
   },
   "outputs": [
    {
     "name": "stdout",
     "output_type": "stream",
     "text": [
      "98779770083.89444\n",
      "[[18, 23, 29, 32, 37, 40, 45, 48, 49, 50, 51, 68, 70, 72, 80, 84, 87, 89, 91, 104, 109], [12, 24, 30, 34, 35, 36, 38, 39, 42, 43, 44, 46, 47, 52, 55, 63, 64, 69, 71, 73, 74, 75, 76, 77, 78, 81, 83, 93, 95, 99, 107, 116, 123], [1, 4, 7, 10, 27, 41, 53, 54, 56, 57, 58, 60, 61, 62, 66, 79, 82, 85, 86, 88, 90, 92, 94, 103], [0, 2, 3, 5, 6, 8, 9, 11, 14, 16, 17, 19, 25, 26, 28, 31, 33, 59, 65, 67, 96, 97, 98, 100, 101, 106, 110, 111, 112, 113, 114, 115, 118, 119, 120, 121, 122], [13, 15, 20, 21, 22, 102, 105, 108, 117]]\n",
      "3, 2, 3, 3, 2, 3, 3, 2, 3, 3, 2, 3, 1, 4, 3, 4, 3, 3, 0, 3, 4, 4, 4, 0, 1, 3, 3, 2, 3, 0, 1, 3, 0, 3, 1, 1, 1, 0, 1, 1, 0, 2, 1, 1, 1, 0, 1, 1, 0, 0, 0, 0, 1, 2, 2, 1, 2, 2, 2, 3, 2, 2, 2, 1, 1, 3, 2, 3, 0, 1, 0, 1, 0, 1, 1, 1, 1, 1, 1, 2, 0, 1, 2, 1, 0, 2, 2, 0, 2, 0, 2, 0, 2, 1, 2, 1, 3, 3, 3, 1, 3, 3, 4, 2, 0, 4, 3, 1, 4, 0, 3, 3, 3, 3, 3, 3, 1, 4, 3, 3, 3, 3, 3, 1, "
     ]
    }
   ],
   "source": [
    "def data_distribution(data, centers):\n",
    "    dim = len(data[0])\n",
    "    n = len(data)\n",
    "    k = len(centers)\n",
    "    clusters = [[] for i in range(k)]\n",
    "    for i in range(n):\n",
    "        min_distance = float('inf')\n",
    "        situable_cluster = -1\n",
    "        for j in range(k):\n",
    "            distance = 0\n",
    "            for q in range(dim):\n",
    "                distance += (data[i][q] - centers[j][q]) ** 2\n",
    "            distance = distance ** 0.5\n",
    "            if distance < min_distance:\n",
    "                min_distance = distance\n",
    "                situable_cluster = j\n",
    "        clusters[situable_cluster].append(i)\n",
    "    return clusters\n",
    "\n",
    "def centers_update(data, clusters, centers):\n",
    "    dim = len(data[0])\n",
    "    k = len(centers)   \n",
    "    for i in range(k): \n",
    "        for q in range(dim): \n",
    "            if len(clusters[i]) != 0:\n",
    "                updated_parameter = 0\n",
    "                for j in range(len(clusters[i])): \n",
    "                    updated_parameter += data[clusters[i][j]][q]\n",
    "                updated_parameter = updated_parameter / len(clusters[i])\n",
    "                centers[i][q] = updated_parameter\n",
    "\n",
    "def clusterization(data, k):\n",
    "    n = len(data)  \n",
    "    dim = len(data[0])  \n",
    "    indexes = []\n",
    "    for i in range(k):\n",
    "        r = random.randint(0, k)\n",
    "        while r in indexes:\n",
    "            r = random.randint(0, k)\n",
    "        indexes.append(r)   \n",
    "    centers = [copy.deepcopy(data[indexes[i]]) for i in range(k)]\n",
    "    clusters = data_distribution(data, centers)\n",
    "    previous_centers = None        \n",
    "    while centers != previous_centers:\n",
    "        previous_centers = copy.deepcopy(centers)\n",
    "        centers_update(data, clusters, centers)\n",
    "        clusters = data_distribution(data, centers)\n",
    "    #Метрика    \n",
    "    CC = 0    \n",
    "    for i in range(len(centers)):\n",
    "        for j in range(len(clusters[i])):\n",
    "            for q in range(dim):\n",
    "                CC +=(data[clusters[i][j]][q] - centers[i][q])**2\n",
    "    CC = CC/5\n",
    "    print(CC)\n",
    "    return clusters\n",
    "\n",
    "res = clusterization(amplitude_spectrums, 5)\n",
    "ans = []\n",
    "print(res)\n",
    "for i in range(len(amplitude_spectrums)):\n",
    "    for j in range(len(res)):\n",
    "        if i in res[j]:\n",
    "            print(j, end=\", \")\n",
    "            ans.append(j)"
   ]
  },
  {
   "cell_type": "code",
   "execution_count": 38,
   "id": "4bd2401e",
   "metadata": {},
   "outputs": [],
   "source": [
    "with open('test.csv', 'w', newline='') as csvfile:\n",
    "    spamwriter = csv.writer(csvfile, delimiter=',',\n",
    "                            quotechar='|', quoting=csv.QUOTE_MINIMAL)\n",
    "    for i in range(len(ans)):\n",
    "        spamwriter.writerow([\"{}.mp3\".format(i+1), ans[i]])"
   ]
  }
 ],
 "metadata": {
  "kernelspec": {
   "display_name": "Python 3",
   "language": "python",
   "name": "python3"
  },
  "language_info": {
   "codemirror_mode": {
    "name": "ipython",
    "version": 3
   },
   "file_extension": ".py",
   "mimetype": "text/x-python",
   "name": "python",
   "nbconvert_exporter": "python",
   "pygments_lexer": "ipython3",
   "version": "3.8.8"
  }
 },
 "nbformat": 4,
 "nbformat_minor": 5
}
